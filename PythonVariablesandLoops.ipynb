{
 "cells": [
  {
   "cell_type": "code",
   "execution_count": 1,
   "metadata": {},
   "outputs": [
    {
     "data": {
      "text/plain": [
       "1271"
      ]
     },
     "execution_count": 1,
     "metadata": {},
     "output_type": "execute_result"
    }
   ],
   "source": [
    "31*41"
   ]
  },
  {
   "cell_type": "code",
   "execution_count": 2,
   "metadata": {},
   "outputs": [
    {
     "name": "stdout",
     "output_type": "stream",
     "text": [
      "1271\n"
     ]
    }
   ],
   "source": [
    "print(31*41)"
   ]
  },
  {
   "cell_type": "markdown",
   "metadata": {},
   "source": [
    "## Text here for keeping notes or documentation"
   ]
  },
  {
   "cell_type": "code",
   "execution_count": 9,
   "metadata": {},
   "outputs": [
    {
     "name": "stdout",
     "output_type": "stream",
     "text": [
      "hello world in a script\n"
     ]
    }
   ],
   "source": [
    "%run -i 'pythonexercises/planet_tools.py'"
   ]
  },
  {
   "cell_type": "code",
   "execution_count": 6,
   "metadata": {},
   "outputs": [
    {
     "name": "stdout",
     "output_type": "stream",
     "text": [
      "/home/avestruz/SWB_2019\n"
     ]
    }
   ],
   "source": [
    "cd pythonexercises/"
   ]
  },
  {
   "cell_type": "code",
   "execution_count": 7,
   "metadata": {},
   "outputs": [
    {
     "data": {
      "text/plain": [
       "'/home/avestruz/SWB_2019'"
      ]
     },
     "execution_count": 7,
     "metadata": {},
     "output_type": "execute_result"
    }
   ],
   "source": [
    "pwd"
   ]
  },
  {
   "cell_type": "code",
   "execution_count": 10,
   "metadata": {},
   "outputs": [
    {
     "data": {
      "text/plain": [
       "'/home/avestruz/SWB_2019'"
      ]
     },
     "execution_count": 10,
     "metadata": {},
     "output_type": "execute_result"
    }
   ],
   "source": [
    "pwd"
   ]
  },
  {
   "cell_type": "code",
   "execution_count": 11,
   "metadata": {},
   "outputs": [
    {
     "name": "stdout",
     "output_type": "stream",
     "text": [
      "/home/avestruz/SWB_2019/pythonexercises\n"
     ]
    }
   ],
   "source": [
    "cd pythonexercises/"
   ]
  },
  {
   "cell_type": "code",
   "execution_count": 12,
   "metadata": {},
   "outputs": [
    {
     "name": "stdout",
     "output_type": "stream",
     "text": [
      "ENter planet to get a mass out:earth\n",
      "6.024464304733657e+24\n",
      "hello world in a script\n"
     ]
    }
   ],
   "source": [
    "import planet_tools as pt"
   ]
  },
  {
   "cell_type": "code",
   "execution_count": 13,
   "metadata": {},
   "outputs": [
    {
     "name": "stdout",
     "output_type": "stream",
     "text": [
      "Help on module planet_tools:\n",
      "\n",
      "NAME\n",
      "    planet_tools - This file contains some example tools to do calculations with planets\n",
      "\n",
      "FUNCTIONS\n",
      "    get_planet_mass_from_dictionary(planet, dictionary_of_radii, average_planet_density)\n",
      "        Here is the docstring for this function that describes what it does.\n",
      "        This uses a dictionary of radii whose keys are planet names to calculate a mass estimate of a planet.\n",
      "\n",
      "DATA\n",
      "    average_density_kgpkm3 = 5520000000000.0\n",
      "    planet = 'earth'\n",
      "    planet_radii_km = {'earth': 6387, 'jupiter': 71492, 'mercury': 2439}\n",
      "\n",
      "FILE\n",
      "    /home/avestruz/SWB_2019/pythonexercises/planet_tools.py\n",
      "\n",
      "\n"
     ]
    }
   ],
   "source": [
    "help(pt)"
   ]
  },
  {
   "cell_type": "code",
   "execution_count": null,
   "metadata": {},
   "outputs": [],
   "source": []
  }
 ],
 "metadata": {
  "kernelspec": {
   "display_name": "Python 3",
   "language": "python",
   "name": "python3"
  },
  "language_info": {
   "codemirror_mode": {
    "name": "ipython",
    "version": 3
   },
   "file_extension": ".py",
   "mimetype": "text/x-python",
   "name": "python",
   "nbconvert_exporter": "python",
   "pygments_lexer": "ipython3",
   "version": "3.6.5"
  }
 },
 "nbformat": 4,
 "nbformat_minor": 2
}
